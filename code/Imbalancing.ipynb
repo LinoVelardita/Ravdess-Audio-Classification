{
 "cells": [
  {
   "cell_type": "code",
   "execution_count": 13,
   "id": "bcdb4d95",
   "metadata": {},
   "outputs": [
    {
     "data": {
      "text/html": [
       "<div>\n",
       "<style scoped>\n",
       "    .dataframe tbody tr th:only-of-type {\n",
       "        vertical-align: middle;\n",
       "    }\n",
       "\n",
       "    .dataframe tbody tr th {\n",
       "        vertical-align: top;\n",
       "    }\n",
       "\n",
       "    .dataframe thead th {\n",
       "        text-align: right;\n",
       "    }\n",
       "</style>\n",
       "<table border=\"1\" class=\"dataframe\">\n",
       "  <thead>\n",
       "    <tr style=\"text-align: right;\">\n",
       "      <th></th>\n",
       "      <th>vocal_channel</th>\n",
       "      <th>emotion</th>\n",
       "      <th>emotional_intensity</th>\n",
       "      <th>statement</th>\n",
       "      <th>repetition</th>\n",
       "      <th>actor</th>\n",
       "      <th>sex</th>\n",
       "      <th>sum</th>\n",
       "      <th>max</th>\n",
       "      <th>q25</th>\n",
       "      <th>...</th>\n",
       "      <th>stft_sum_w4</th>\n",
       "      <th>stft_std_w4</th>\n",
       "      <th>stft_q01_w4</th>\n",
       "      <th>stft_q05_w4</th>\n",
       "      <th>stft_q25_w4</th>\n",
       "      <th>stft_q50_w4</th>\n",
       "      <th>stft_q75_w4</th>\n",
       "      <th>stft_q95_w4</th>\n",
       "      <th>stft_kur_w4</th>\n",
       "      <th>stft_skew_w4</th>\n",
       "    </tr>\n",
       "  </thead>\n",
       "  <tbody>\n",
       "    <tr>\n",
       "      <th>0</th>\n",
       "      <td>0</td>\n",
       "      <td>1</td>\n",
       "      <td>0</td>\n",
       "      <td>1</td>\n",
       "      <td>1</td>\n",
       "      <td>1</td>\n",
       "      <td>0</td>\n",
       "      <td>0.328567</td>\n",
       "      <td>-0.391762</td>\n",
       "      <td>0.342857</td>\n",
       "      <td>...</td>\n",
       "      <td>0.135483</td>\n",
       "      <td>-1.096766</td>\n",
       "      <td>-0.402429</td>\n",
       "      <td>1.421380</td>\n",
       "      <td>0.948188</td>\n",
       "      <td>0.831973</td>\n",
       "      <td>0.536448</td>\n",
       "      <td>0.0</td>\n",
       "      <td>10.826275</td>\n",
       "      <td>-2.710136</td>\n",
       "    </tr>\n",
       "    <tr>\n",
       "      <th>1</th>\n",
       "      <td>0</td>\n",
       "      <td>1</td>\n",
       "      <td>0</td>\n",
       "      <td>1</td>\n",
       "      <td>2</td>\n",
       "      <td>1</td>\n",
       "      <td>0</td>\n",
       "      <td>0.272964</td>\n",
       "      <td>-0.346159</td>\n",
       "      <td>0.342857</td>\n",
       "      <td>...</td>\n",
       "      <td>-0.196060</td>\n",
       "      <td>-1.013205</td>\n",
       "      <td>1.702463</td>\n",
       "      <td>1.092210</td>\n",
       "      <td>0.597843</td>\n",
       "      <td>0.441189</td>\n",
       "      <td>0.253557</td>\n",
       "      <td>0.0</td>\n",
       "      <td>0.064887</td>\n",
       "      <td>0.425032</td>\n",
       "    </tr>\n",
       "    <tr>\n",
       "      <th>2</th>\n",
       "      <td>0</td>\n",
       "      <td>1</td>\n",
       "      <td>0</td>\n",
       "      <td>0</td>\n",
       "      <td>1</td>\n",
       "      <td>1</td>\n",
       "      <td>0</td>\n",
       "      <td>0.337392</td>\n",
       "      <td>-0.284007</td>\n",
       "      <td>0.371429</td>\n",
       "      <td>...</td>\n",
       "      <td>-0.307833</td>\n",
       "      <td>-0.716367</td>\n",
       "      <td>-0.402429</td>\n",
       "      <td>0.899688</td>\n",
       "      <td>0.680414</td>\n",
       "      <td>0.652634</td>\n",
       "      <td>0.569396</td>\n",
       "      <td>0.0</td>\n",
       "      <td>3.519767</td>\n",
       "      <td>-1.290314</td>\n",
       "    </tr>\n",
       "    <tr>\n",
       "      <th>3</th>\n",
       "      <td>0</td>\n",
       "      <td>1</td>\n",
       "      <td>0</td>\n",
       "      <td>0</td>\n",
       "      <td>2</td>\n",
       "      <td>1</td>\n",
       "      <td>0</td>\n",
       "      <td>0.318693</td>\n",
       "      <td>-0.258631</td>\n",
       "      <td>0.342857</td>\n",
       "      <td>...</td>\n",
       "      <td>-0.607848</td>\n",
       "      <td>-0.803778</td>\n",
       "      <td>1.346476</td>\n",
       "      <td>0.835496</td>\n",
       "      <td>0.532143</td>\n",
       "      <td>0.515441</td>\n",
       "      <td>0.405521</td>\n",
       "      <td>0.0</td>\n",
       "      <td>0.218601</td>\n",
       "      <td>-0.015380</td>\n",
       "    </tr>\n",
       "    <tr>\n",
       "      <th>4</th>\n",
       "      <td>0</td>\n",
       "      <td>2</td>\n",
       "      <td>0</td>\n",
       "      <td>1</td>\n",
       "      <td>1</td>\n",
       "      <td>1</td>\n",
       "      <td>0</td>\n",
       "      <td>0.315162</td>\n",
       "      <td>-0.478371</td>\n",
       "      <td>0.342857</td>\n",
       "      <td>...</td>\n",
       "      <td>0.145139</td>\n",
       "      <td>-0.863050</td>\n",
       "      <td>1.018057</td>\n",
       "      <td>0.935801</td>\n",
       "      <td>0.644804</td>\n",
       "      <td>0.549313</td>\n",
       "      <td>0.296205</td>\n",
       "      <td>0.0</td>\n",
       "      <td>1.260594</td>\n",
       "      <td>-0.448574</td>\n",
       "    </tr>\n",
       "    <tr>\n",
       "      <th>...</th>\n",
       "      <td>...</td>\n",
       "      <td>...</td>\n",
       "      <td>...</td>\n",
       "      <td>...</td>\n",
       "      <td>...</td>\n",
       "      <td>...</td>\n",
       "      <td>...</td>\n",
       "      <td>...</td>\n",
       "      <td>...</td>\n",
       "      <td>...</td>\n",
       "      <td>...</td>\n",
       "      <td>...</td>\n",
       "      <td>...</td>\n",
       "      <td>...</td>\n",
       "      <td>...</td>\n",
       "      <td>...</td>\n",
       "      <td>...</td>\n",
       "      <td>...</td>\n",
       "      <td>...</td>\n",
       "      <td>...</td>\n",
       "      <td>...</td>\n",
       "    </tr>\n",
       "    <tr>\n",
       "      <th>1823</th>\n",
       "      <td>0</td>\n",
       "      <td>8</td>\n",
       "      <td>0</td>\n",
       "      <td>0</td>\n",
       "      <td>2</td>\n",
       "      <td>18</td>\n",
       "      <td>1</td>\n",
       "      <td>-0.212894</td>\n",
       "      <td>-0.426884</td>\n",
       "      <td>0.371429</td>\n",
       "      <td>...</td>\n",
       "      <td>-0.631100</td>\n",
       "      <td>0.407872</td>\n",
       "      <td>-0.402429</td>\n",
       "      <td>-0.568068</td>\n",
       "      <td>0.272635</td>\n",
       "      <td>0.320467</td>\n",
       "      <td>0.493310</td>\n",
       "      <td>0.0</td>\n",
       "      <td>1.457767</td>\n",
       "      <td>-1.346654</td>\n",
       "    </tr>\n",
       "    <tr>\n",
       "      <th>1824</th>\n",
       "      <td>0</td>\n",
       "      <td>8</td>\n",
       "      <td>1</td>\n",
       "      <td>1</td>\n",
       "      <td>1</td>\n",
       "      <td>18</td>\n",
       "      <td>1</td>\n",
       "      <td>-0.186141</td>\n",
       "      <td>-0.196663</td>\n",
       "      <td>0.342857</td>\n",
       "      <td>...</td>\n",
       "      <td>-0.887878</td>\n",
       "      <td>0.718169</td>\n",
       "      <td>-0.402429</td>\n",
       "      <td>-0.568068</td>\n",
       "      <td>-0.402428</td>\n",
       "      <td>0.139088</td>\n",
       "      <td>0.581452</td>\n",
       "      <td>0.0</td>\n",
       "      <td>-0.162612</td>\n",
       "      <td>-0.423159</td>\n",
       "    </tr>\n",
       "    <tr>\n",
       "      <th>1825</th>\n",
       "      <td>0</td>\n",
       "      <td>8</td>\n",
       "      <td>1</td>\n",
       "      <td>1</td>\n",
       "      <td>2</td>\n",
       "      <td>18</td>\n",
       "      <td>1</td>\n",
       "      <td>-0.314997</td>\n",
       "      <td>-0.216890</td>\n",
       "      <td>0.371429</td>\n",
       "      <td>...</td>\n",
       "      <td>-0.910208</td>\n",
       "      <td>0.339948</td>\n",
       "      <td>-0.402429</td>\n",
       "      <td>-0.225264</td>\n",
       "      <td>-0.114307</td>\n",
       "      <td>0.022347</td>\n",
       "      <td>0.470287</td>\n",
       "      <td>0.0</td>\n",
       "      <td>0.128201</td>\n",
       "      <td>-0.378094</td>\n",
       "    </tr>\n",
       "    <tr>\n",
       "      <th>1826</th>\n",
       "      <td>0</td>\n",
       "      <td>8</td>\n",
       "      <td>1</td>\n",
       "      <td>0</td>\n",
       "      <td>1</td>\n",
       "      <td>18</td>\n",
       "      <td>1</td>\n",
       "      <td>-0.088892</td>\n",
       "      <td>-0.214683</td>\n",
       "      <td>0.342857</td>\n",
       "      <td>...</td>\n",
       "      <td>-0.445016</td>\n",
       "      <td>0.715166</td>\n",
       "      <td>-0.402429</td>\n",
       "      <td>-0.568068</td>\n",
       "      <td>0.037070</td>\n",
       "      <td>0.207317</td>\n",
       "      <td>0.187007</td>\n",
       "      <td>0.0</td>\n",
       "      <td>0.356091</td>\n",
       "      <td>-0.924174</td>\n",
       "    </tr>\n",
       "    <tr>\n",
       "      <th>1827</th>\n",
       "      <td>0</td>\n",
       "      <td>8</td>\n",
       "      <td>1</td>\n",
       "      <td>0</td>\n",
       "      <td>2</td>\n",
       "      <td>18</td>\n",
       "      <td>1</td>\n",
       "      <td>-0.286699</td>\n",
       "      <td>-0.242265</td>\n",
       "      <td>0.342857</td>\n",
       "      <td>...</td>\n",
       "      <td>-0.818883</td>\n",
       "      <td>0.118607</td>\n",
       "      <td>-0.402429</td>\n",
       "      <td>0.008308</td>\n",
       "      <td>-0.254529</td>\n",
       "      <td>-0.280770</td>\n",
       "      <td>0.019999</td>\n",
       "      <td>0.0</td>\n",
       "      <td>-0.314699</td>\n",
       "      <td>0.268721</td>\n",
       "    </tr>\n",
       "  </tbody>\n",
       "</table>\n",
       "<p>1828 rows × 284 columns</p>\n",
       "</div>"
      ],
      "text/plain": [
       "      vocal_channel  emotion  emotional_intensity  statement  repetition  \\\n",
       "0                 0        1                    0          1           1   \n",
       "1                 0        1                    0          1           2   \n",
       "2                 0        1                    0          0           1   \n",
       "3                 0        1                    0          0           2   \n",
       "4                 0        2                    0          1           1   \n",
       "...             ...      ...                  ...        ...         ...   \n",
       "1823              0        8                    0          0           2   \n",
       "1824              0        8                    1          1           1   \n",
       "1825              0        8                    1          1           2   \n",
       "1826              0        8                    1          0           1   \n",
       "1827              0        8                    1          0           2   \n",
       "\n",
       "      actor  sex       sum       max       q25  ...  stft_sum_w4  stft_std_w4  \\\n",
       "0         1    0  0.328567 -0.391762  0.342857  ...     0.135483    -1.096766   \n",
       "1         1    0  0.272964 -0.346159  0.342857  ...    -0.196060    -1.013205   \n",
       "2         1    0  0.337392 -0.284007  0.371429  ...    -0.307833    -0.716367   \n",
       "3         1    0  0.318693 -0.258631  0.342857  ...    -0.607848    -0.803778   \n",
       "4         1    0  0.315162 -0.478371  0.342857  ...     0.145139    -0.863050   \n",
       "...     ...  ...       ...       ...       ...  ...          ...          ...   \n",
       "1823     18    1 -0.212894 -0.426884  0.371429  ...    -0.631100     0.407872   \n",
       "1824     18    1 -0.186141 -0.196663  0.342857  ...    -0.887878     0.718169   \n",
       "1825     18    1 -0.314997 -0.216890  0.371429  ...    -0.910208     0.339948   \n",
       "1826     18    1 -0.088892 -0.214683  0.342857  ...    -0.445016     0.715166   \n",
       "1827     18    1 -0.286699 -0.242265  0.342857  ...    -0.818883     0.118607   \n",
       "\n",
       "      stft_q01_w4  stft_q05_w4  stft_q25_w4  stft_q50_w4  stft_q75_w4  \\\n",
       "0       -0.402429     1.421380     0.948188     0.831973     0.536448   \n",
       "1        1.702463     1.092210     0.597843     0.441189     0.253557   \n",
       "2       -0.402429     0.899688     0.680414     0.652634     0.569396   \n",
       "3        1.346476     0.835496     0.532143     0.515441     0.405521   \n",
       "4        1.018057     0.935801     0.644804     0.549313     0.296205   \n",
       "...           ...          ...          ...          ...          ...   \n",
       "1823    -0.402429    -0.568068     0.272635     0.320467     0.493310   \n",
       "1824    -0.402429    -0.568068    -0.402428     0.139088     0.581452   \n",
       "1825    -0.402429    -0.225264    -0.114307     0.022347     0.470287   \n",
       "1826    -0.402429    -0.568068     0.037070     0.207317     0.187007   \n",
       "1827    -0.402429     0.008308    -0.254529    -0.280770     0.019999   \n",
       "\n",
       "      stft_q95_w4  stft_kur_w4  stft_skew_w4  \n",
       "0             0.0    10.826275     -2.710136  \n",
       "1             0.0     0.064887      0.425032  \n",
       "2             0.0     3.519767     -1.290314  \n",
       "3             0.0     0.218601     -0.015380  \n",
       "4             0.0     1.260594     -0.448574  \n",
       "...           ...          ...           ...  \n",
       "1823          0.0     1.457767     -1.346654  \n",
       "1824          0.0    -0.162612     -0.423159  \n",
       "1825          0.0     0.128201     -0.378094  \n",
       "1826          0.0     0.356091     -0.924174  \n",
       "1827          0.0    -0.314699      0.268721  \n",
       "\n",
       "[1828 rows x 284 columns]"
      ]
     },
     "execution_count": 13,
     "metadata": {},
     "output_type": "execute_result"
    }
   ],
   "source": [
    "import pandas as pd\n",
    "import numpy as np\n",
    "from numpy import nan\n",
    "import matplotlib.pyplot as plt\n",
    "import seaborn as sns\n",
    "\n",
    "#pd.set_option('display.max_columns', None)\n",
    "df=pd.read_csv('Ravdess_TRAIN_transformed.csv')\n",
    "df_test=pd.read_csv('Ravdess_TEST_transformed.csv')\n",
    "df\n",
    "#df scaled, var=0 and high correlated features removed, categorical features mapped"
   ]
  },
  {
   "cell_type": "code",
   "execution_count": 14,
   "id": "92d4b5f9",
   "metadata": {},
   "outputs": [
    {
     "data": {
      "text/plain": [
       "2    280\n",
       "3    280\n",
       "4    280\n",
       "5    280\n",
       "6    280\n",
       "7    144\n",
       "8    144\n",
       "1    140\n",
       "Name: emotion, dtype: int64"
      ]
     },
     "execution_count": 14,
     "metadata": {},
     "output_type": "execute_result"
    }
   ],
   "source": [
    "df['emotion'].value_counts()"
   ]
  },
  {
   "cell_type": "markdown",
   "id": "1f9b3243",
   "metadata": {},
   "source": [
    "# Unbalancing emotion by considering only surprised emotion"
   ]
  },
  {
   "cell_type": "code",
   "execution_count": 15,
   "id": "bc36db6d",
   "metadata": {},
   "outputs": [],
   "source": [
    "emotion_demapper = {1:\"neutral\", 2:\"calm\", 3:\"happy\", 4:\"sad\", 5:\"angry\", 6:\"fearful\", 7:\"disgust\", 8:\"surprised\"}\n",
    "df[\"emotion\"] = df[\"emotion\"].replace(emotion_demapper)\n",
    "df_test[\"emotion\"] = df_test[\"emotion\"].replace(emotion_demapper)\n",
    "\n",
    "emotion_mapper = {\"neutral\":0, \"calm\":0, \"happy\":0, \"sad\":0, \"angry\":0, \"fearful\":0, \"disgust\":0, \"surprised\":1}\n",
    "df[\"emotion\"] = df[\"emotion\"].replace(emotion_mapper)\n",
    "df_test[\"emotion\"] = df_test[\"emotion\"].replace(emotion_mapper)\n"
   ]
  },
  {
   "cell_type": "markdown",
   "id": "bf6be6e2",
   "metadata": {},
   "source": [
    "# Partitioning"
   ]
  },
  {
   "cell_type": "code",
   "execution_count": 16,
   "id": "e3f589f8",
   "metadata": {},
   "outputs": [],
   "source": [
    "X, y = df.drop([\"emotion\", \"vocal_channel\", \"emotional_intensity\", \"statement\", \"repetition\", \"actor\", \"sex\"], axis=1), df[[\"emotion\"]].values.flatten()\n",
    "X2, y2 = df_test.drop([\"emotion\", \"vocal_channel\", \"emotional_intensity\", \"statement\", \"repetition\", \"actor\", \"sex\"], axis=1), df_test[[\"emotion\"]].values.flatten()"
   ]
  },
  {
   "cell_type": "code",
   "execution_count": 17,
   "id": "dab42e0a",
   "metadata": {},
   "outputs": [],
   "source": [
    "from sklearn.model_selection import train_test_split\n",
    "#X_train, X_test, y_train, y_test = train_test_split(X, y, test_size=0.3, random_state=42, stratify=y)\n",
    "X_train, y_train = X, y\n",
    "X_test, y_test = X2, y2"
   ]
  },
  {
   "cell_type": "markdown",
   "id": "255d131a",
   "metadata": {},
   "source": [
    "# Imbalancing with SMOTE / SVMSMOTE / ADASYN / SMOTE-NC"
   ]
  },
  {
   "cell_type": "code",
   "execution_count": 18,
   "id": "257ec43a",
   "metadata": {},
   "outputs": [],
   "source": [
    "#saving the results on a list\n",
    "f1_results = []\n",
    "accuracy_results = []\n",
    "\n",
    "knn_f1 = []\n",
    "knn_accuracy = []"
   ]
  },
  {
   "cell_type": "code",
   "execution_count": 19,
   "id": "63e74359",
   "metadata": {},
   "outputs": [],
   "source": [
    "from imblearn.over_sampling import KMeansSMOTE, SMOTE, SVMSMOTE, SMOTENC\n",
    "from imblearn.over_sampling import RandomOverSampler, ADASYN"
   ]
  },
  {
   "cell_type": "markdown",
   "id": "0c59b112",
   "metadata": {},
   "source": [
    "# The effect of resampling on classifier result"
   ]
  },
  {
   "cell_type": "markdown",
   "id": "ff8669ec",
   "metadata": {},
   "source": [
    "# Classifier result on unbalanced data"
   ]
  },
  {
   "cell_type": "markdown",
   "id": "7e3389b9",
   "metadata": {},
   "source": [
    "### Decision Tree"
   ]
  },
  {
   "cell_type": "code",
   "execution_count": 20,
   "id": "ad9e3078",
   "metadata": {},
   "outputs": [
    {
     "name": "stdout",
     "output_type": "stream",
     "text": [
      "Accuracy 0.8910256410256411\n",
      "F1-score [0.94066318 0.33333333]\n",
      "              precision    recall  f1-score   support\n",
      "\n",
      "           0       0.95      0.94      0.94       576\n",
      "           1       0.31      0.35      0.33        48\n",
      "\n",
      "    accuracy                           0.89       624\n",
      "   macro avg       0.63      0.64      0.64       624\n",
      "weighted avg       0.90      0.89      0.89       624\n",
      "\n"
     ]
    }
   ],
   "source": [
    "from sklearn.tree import DecisionTreeClassifier\n",
    "from sklearn.metrics import accuracy_score, f1_score, classification_report\n",
    "from sklearn.metrics import roc_curve, auc, roc_auc_score\n",
    "\n",
    "clf = DecisionTreeClassifier(max_depth=10, min_samples_leaf=25, random_state=42, criterion='gini')\n",
    "clf.fit(X_train, y_train)\n",
    "\n",
    "y_pred = clf.predict(X_test)\n",
    "\n",
    "#saving\n",
    "f1_results.append(f1_score(y_test, y_pred))\n",
    "accuracy_results.append(accuracy_score(y_test, y_pred))\n",
    "\n",
    "print('Accuracy %s' % accuracy_score(y_test, y_pred))\n",
    "print('F1-score %s' % f1_score(y_test, y_pred, average=None))\n",
    "print(classification_report(y_test, y_pred))"
   ]
  },
  {
   "cell_type": "markdown",
   "id": "4da27b4b",
   "metadata": {},
   "source": [
    "### KNN"
   ]
  },
  {
   "cell_type": "code",
   "execution_count": 21,
   "id": "6eb7ccdb",
   "metadata": {},
   "outputs": [
    {
     "name": "stdout",
     "output_type": "stream",
     "text": [
      "Accuracy 0.9038461538461539\n",
      "F1-score [0.94932432 0.0625    ]\n",
      "              precision    recall  f1-score   support\n",
      "\n",
      "           0       0.92      0.98      0.95       576\n",
      "           1       0.12      0.04      0.06        48\n",
      "\n",
      "    accuracy                           0.90       624\n",
      "   macro avg       0.52      0.51      0.51       624\n",
      "weighted avg       0.86      0.90      0.88       624\n",
      "\n"
     ]
    }
   ],
   "source": [
    "from sklearn.neighbors import KNeighborsClassifier\n",
    "\n",
    "clf = KNeighborsClassifier(n_neighbors=8, weights='distance')\n",
    "clf.fit(X_train, y_train)\n",
    "\n",
    "y_pred = clf.predict(X_test)\n",
    "\n",
    "#saving\n",
    "knn_f1.append(f1_score(y_test, y_pred))\n",
    "knn_accuracy.append(accuracy_score(y_test, y_pred))\n",
    "\n",
    "print('Accuracy %s' % accuracy_score(y_test, y_pred))\n",
    "print('F1-score %s' % f1_score(y_test, y_pred, average=None))\n",
    "print(classification_report(y_test, y_pred))"
   ]
  },
  {
   "cell_type": "markdown",
   "id": "38179754",
   "metadata": {},
   "source": [
    "# Classifier result on rebalanced data"
   ]
  },
  {
   "cell_type": "markdown",
   "id": "100731d0",
   "metadata": {},
   "source": [
    "## Decision Tree+KNN / random"
   ]
  },
  {
   "cell_type": "code",
   "execution_count": 22,
   "id": "ac52b522",
   "metadata": {},
   "outputs": [
    {
     "name": "stdout",
     "output_type": "stream",
     "text": [
      "Accuracy 0.8397435897435898\n",
      "F1-score [0.90859232 0.35064935]\n",
      "              precision    recall  f1-score   support\n",
      "\n",
      "           0       0.96      0.86      0.91       576\n",
      "           1       0.25      0.56      0.35        48\n",
      "\n",
      "    accuracy                           0.84       624\n",
      "   macro avg       0.61      0.71      0.63       624\n",
      "weighted avg       0.91      0.84      0.87       624\n",
      "\n"
     ]
    }
   ],
   "source": [
    "ros = RandomOverSampler(random_state=42)\n",
    "X_resampled, y_resampled = ros.fit_resample(X_train, y_train)\n",
    "\n",
    "clf = DecisionTreeClassifier(max_depth=10, min_samples_leaf=25, random_state=42, criterion='gini')\n",
    "clf.fit(X_resampled, y_resampled)\n",
    "\n",
    "y_pred = clf.predict(X_test)\n",
    "\n",
    "#saving\n",
    "f1_results.append(f1_score(y_test, y_pred))\n",
    "accuracy_results.append(accuracy_score(y_test, y_pred))\n",
    "\n",
    "print('Accuracy %s' % accuracy_score(y_test, y_pred))\n",
    "print('F1-score %s' % f1_score(y_test, y_pred, average=None))\n",
    "print(classification_report(y_test, y_pred))"
   ]
  },
  {
   "cell_type": "code",
   "execution_count": 23,
   "id": "6cccdde8",
   "metadata": {},
   "outputs": [
    {
     "name": "stdout",
     "output_type": "stream",
     "text": [
      "Accuracy 0.7996794871794872\n",
      "F1-score [0.88372093 0.27745665]\n",
      "              precision    recall  f1-score   support\n",
      "\n",
      "           0       0.95      0.82      0.88       576\n",
      "           1       0.19      0.50      0.28        48\n",
      "\n",
      "    accuracy                           0.80       624\n",
      "   macro avg       0.57      0.66      0.58       624\n",
      "weighted avg       0.89      0.80      0.84       624\n",
      "\n"
     ]
    }
   ],
   "source": [
    "from sklearn.neighbors import KNeighborsClassifier\n",
    "\n",
    "clf = KNeighborsClassifier(n_neighbors=8, weights='distance')\n",
    "clf.fit(X_resampled, y_resampled)\n",
    "\n",
    "y_pred = clf.predict(X_test)\n",
    "\n",
    "#saving\n",
    "knn_f1.append(f1_score(y_test, y_pred))\n",
    "knn_accuracy.append(accuracy_score(y_test, y_pred))\n",
    "\n",
    "print('Accuracy %s' % accuracy_score(y_test, y_pred))\n",
    "print('F1-score %s' % f1_score(y_test, y_pred, average=None))\n",
    "print(classification_report(y_test, y_pred))"
   ]
  },
  {
   "cell_type": "markdown",
   "id": "bcdd35ae",
   "metadata": {},
   "source": [
    "## Decision Tree+KNN / SMOTE"
   ]
  },
  {
   "cell_type": "code",
   "execution_count": 24,
   "id": "e5496a86",
   "metadata": {},
   "outputs": [
    {
     "name": "stdout",
     "output_type": "stream",
     "text": [
      "Accuracy 0.8333333333333334\n",
      "F1-score [0.9038817  0.37349398]\n",
      "              precision    recall  f1-score   support\n",
      "\n",
      "           0       0.97      0.85      0.90       576\n",
      "           1       0.26      0.65      0.37        48\n",
      "\n",
      "    accuracy                           0.83       624\n",
      "   macro avg       0.61      0.75      0.64       624\n",
      "weighted avg       0.91      0.83      0.86       624\n",
      "\n"
     ]
    }
   ],
   "source": [
    "smote = SMOTE(random_state=42)\n",
    "X_resampled, y_resampled = smote.fit_resample(X_train, y_train)\n",
    "\n",
    "clf = DecisionTreeClassifier(max_depth=10, min_samples_leaf=25, random_state=42, criterion='gini')\n",
    "clf.fit(X_resampled, y_resampled)\n",
    "\n",
    "y_pred = clf.predict(X_test)\n",
    "\n",
    "#saving\n",
    "f1_results.append(f1_score(y_test, y_pred))\n",
    "accuracy_results.append(accuracy_score(y_test, y_pred))\n",
    "\n",
    "print('Accuracy %s' % accuracy_score(y_test, y_pred))\n",
    "print('F1-score %s' % f1_score(y_test, y_pred, average=None))\n",
    "print(classification_report(y_test, y_pred))"
   ]
  },
  {
   "cell_type": "code",
   "execution_count": 25,
   "id": "d78b9795",
   "metadata": {},
   "outputs": [
    {
     "name": "stdout",
     "output_type": "stream",
     "text": [
      "Accuracy 0.75\n",
      "F1-score [0.84883721 0.27777778]\n",
      "              precision    recall  f1-score   support\n",
      "\n",
      "           0       0.96      0.76      0.85       576\n",
      "           1       0.18      0.62      0.28        48\n",
      "\n",
      "    accuracy                           0.75       624\n",
      "   macro avg       0.57      0.69      0.56       624\n",
      "weighted avg       0.90      0.75      0.80       624\n",
      "\n"
     ]
    }
   ],
   "source": [
    "from sklearn.neighbors import KNeighborsClassifier\n",
    "\n",
    "clf = KNeighborsClassifier(n_neighbors=8, weights='distance')\n",
    "clf.fit(X_resampled, y_resampled)\n",
    "\n",
    "y_pred = clf.predict(X_test)\n",
    "\n",
    "#saving\n",
    "knn_f1.append(f1_score(y_test, y_pred))\n",
    "knn_accuracy.append(accuracy_score(y_test, y_pred))\n",
    "\n",
    "print('Accuracy %s' % accuracy_score(y_test, y_pred))\n",
    "print('F1-score %s' % f1_score(y_test, y_pred, average=None))\n",
    "print(classification_report(y_test, y_pred))"
   ]
  },
  {
   "cell_type": "markdown",
   "id": "cd6059cb",
   "metadata": {},
   "source": [
    "## Decision Tree+KNN / SVMSMOTE"
   ]
  },
  {
   "cell_type": "code",
   "execution_count": 26,
   "id": "81d867a1",
   "metadata": {},
   "outputs": [
    {
     "name": "stdout",
     "output_type": "stream",
     "text": [
      "Accuracy 0.8766025641025641\n",
      "F1-score [0.9309417  0.42105263]\n",
      "              precision    recall  f1-score   support\n",
      "\n",
      "           0       0.96      0.90      0.93       576\n",
      "           1       0.33      0.58      0.42        48\n",
      "\n",
      "    accuracy                           0.88       624\n",
      "   macro avg       0.65      0.74      0.68       624\n",
      "weighted avg       0.91      0.88      0.89       624\n",
      "\n"
     ]
    }
   ],
   "source": [
    "svmsmote = SVMSMOTE(random_state=40)\n",
    "X_resampled, y_resampled = svmsmote.fit_resample(X_train, y_train)\n",
    "\n",
    "clf = DecisionTreeClassifier(max_depth=10, min_samples_leaf=25, random_state=42, criterion='gini')\n",
    "clf.fit(X_resampled, y_resampled)\n",
    "\n",
    "y_pred = clf.predict(X_test)\n",
    "\n",
    "#saving\n",
    "f1_results.append(f1_score(y_test, y_pred))\n",
    "accuracy_results.append(accuracy_score(y_test, y_pred))\n",
    "\n",
    "print('Accuracy %s' % accuracy_score(y_test, y_pred))\n",
    "print('F1-score %s' % f1_score(y_test, y_pred, average=None))\n",
    "print(classification_report(y_test, y_pred))"
   ]
  },
  {
   "cell_type": "code",
   "execution_count": 210,
   "id": "75084884",
   "metadata": {},
   "outputs": [
    {
     "name": "stdout",
     "output_type": "stream",
     "text": [
      "Accuracy 0.7868589743589743\n",
      "F1-score [0.87464656 0.28877005]\n",
      "              precision    recall  f1-score   support\n",
      "\n",
      "           0       0.96      0.81      0.87       576\n",
      "           1       0.19      0.56      0.29        48\n",
      "\n",
      "    accuracy                           0.79       624\n",
      "   macro avg       0.58      0.68      0.58       624\n",
      "weighted avg       0.90      0.79      0.83       624\n",
      "\n"
     ]
    }
   ],
   "source": [
    "from sklearn.neighbors import KNeighborsClassifier\n",
    "\n",
    "clf = KNeighborsClassifier(n_neighbors=8, weights='distance')\n",
    "clf.fit(X_resampled, y_resampled)\n",
    "\n",
    "y_pred = clf.predict(X_test)\n",
    "\n",
    "#saving\n",
    "knn_f1.append(f1_score(y_test, y_pred))\n",
    "knn_accuracy.append(accuracy_score(y_test, y_pred))\n",
    "\n",
    "print('Accuracy %s' % accuracy_score(y_test, y_pred))\n",
    "print('F1-score %s' % f1_score(y_test, y_pred, average=None))\n",
    "print(classification_report(y_test, y_pred))"
   ]
  },
  {
   "cell_type": "markdown",
   "id": "9351aeb4",
   "metadata": {},
   "source": [
    "## Decision Tree+KNN / ADASYN"
   ]
  },
  {
   "cell_type": "code",
   "execution_count": 211,
   "id": "c9bbe024",
   "metadata": {},
   "outputs": [
    {
     "name": "stdout",
     "output_type": "stream",
     "text": [
      "Accuracy 0.8477564102564102\n",
      "F1-score [0.91324201 0.37908497]\n",
      "              precision    recall  f1-score   support\n",
      "\n",
      "           0       0.96      0.87      0.91       576\n",
      "           1       0.28      0.60      0.38        48\n",
      "\n",
      "    accuracy                           0.85       624\n",
      "   macro avg       0.62      0.74      0.65       624\n",
      "weighted avg       0.91      0.85      0.87       624\n",
      "\n"
     ]
    }
   ],
   "source": [
    "adasyn = ADASYN(random_state=43, sampling_strategy='minority', n_neighbors=5)\n",
    "X_resampled, y_resampled = adasyn.fit_resample(X_train, y_train)\n",
    "\n",
    "clf = DecisionTreeClassifier(max_depth=10, min_samples_leaf=25, random_state=42, criterion='gini')\n",
    "clf.fit(X_resampled, y_resampled)\n",
    "\n",
    "y_pred = clf.predict(X_test)\n",
    "\n",
    "#saving\n",
    "f1_results.append(f1_score(y_test, y_pred))\n",
    "accuracy_results.append(accuracy_score(y_test, y_pred))\n",
    "\n",
    "print('Accuracy %s' % accuracy_score(y_test, y_pred))\n",
    "print('F1-score %s' % f1_score(y_test, y_pred, average=None))\n",
    "print(classification_report(y_test, y_pred))"
   ]
  },
  {
   "cell_type": "code",
   "execution_count": 212,
   "id": "eae04724",
   "metadata": {},
   "outputs": [
    {
     "name": "stdout",
     "output_type": "stream",
     "text": [
      "Accuracy 0.7387820512820513\n",
      "F1-score [0.84097561 0.2690583 ]\n",
      "              precision    recall  f1-score   support\n",
      "\n",
      "           0       0.96      0.75      0.84       576\n",
      "           1       0.17      0.62      0.27        48\n",
      "\n",
      "    accuracy                           0.74       624\n",
      "   macro avg       0.57      0.69      0.56       624\n",
      "weighted avg       0.90      0.74      0.80       624\n",
      "\n"
     ]
    }
   ],
   "source": [
    "from sklearn.neighbors import KNeighborsClassifier\n",
    "\n",
    "clf = KNeighborsClassifier(n_neighbors=8, weights='distance')\n",
    "clf.fit(X_resampled, y_resampled)\n",
    "\n",
    "y_pred = clf.predict(X_test)\n",
    "\n",
    "#saving\n",
    "knn_f1.append(f1_score(y_test, y_pred))\n",
    "knn_accuracy.append(accuracy_score(y_test, y_pred))\n",
    "\n",
    "print('Accuracy %s' % accuracy_score(y_test, y_pred))\n",
    "print('F1-score %s' % f1_score(y_test, y_pred, average=None))\n",
    "print(classification_report(y_test, y_pred))"
   ]
  },
  {
   "cell_type": "markdown",
   "id": "e765202f",
   "metadata": {},
   "source": [
    "## Decision Tree+KNN / SMOTENC"
   ]
  },
  {
   "cell_type": "code",
   "execution_count": 213,
   "id": "7ea8c904",
   "metadata": {},
   "outputs": [],
   "source": [
    "X, y = df.drop([\"emotion\"], axis=1), df[[\"emotion\"]].values.flatten()\n",
    "X2, y2 = df_test.drop([\"emotion\"], axis=1), df_test[[\"emotion\"]].values.flatten()\n",
    "\n",
    "X_train, y_train = X, y\n",
    "X_test, y_test = X2, y2"
   ]
  },
  {
   "cell_type": "code",
   "execution_count": 214,
   "id": "c97f5573",
   "metadata": {},
   "outputs": [
    {
     "name": "stdout",
     "output_type": "stream",
     "text": [
      "Accuracy 0.8285256410256411\n",
      "F1-score [0.89990645 0.40223464]\n",
      "              precision    recall  f1-score   support\n",
      "\n",
      "           0       0.98      0.84      0.90       576\n",
      "           1       0.27      0.75      0.40        48\n",
      "\n",
      "    accuracy                           0.83       624\n",
      "   macro avg       0.63      0.79      0.65       624\n",
      "weighted avg       0.92      0.83      0.86       624\n",
      "\n"
     ]
    }
   ],
   "source": [
    "#smote_nc = smote with all categorical variables inside\n",
    "\n",
    "smote_nc = SMOTE(random_state=42)\n",
    "X_resampled, y_resampled = smote_nc.fit_resample(X_train, y_train)\n",
    "\n",
    "clf = DecisionTreeClassifier(max_depth=10, min_samples_leaf=25, random_state=42, criterion='gini')\n",
    "clf.fit(X_resampled, y_resampled)\n",
    "\n",
    "y_pred = clf.predict(X_test)\n",
    "\n",
    "#saving\n",
    "f1_results.append(f1_score(y_test, y_pred))\n",
    "accuracy_results.append(accuracy_score(y_test, y_pred))\n",
    "\n",
    "print('Accuracy %s' % accuracy_score(y_test, y_pred))\n",
    "print('F1-score %s' % f1_score(y_test, y_pred, average=None))\n",
    "print(classification_report(y_test, y_pred))"
   ]
  },
  {
   "cell_type": "code",
   "execution_count": 215,
   "id": "df7d35c0",
   "metadata": {},
   "outputs": [
    {
     "name": "stdout",
     "output_type": "stream",
     "text": [
      "Accuracy 0.7740384615384616\n",
      "F1-score [0.86532951 0.29850746]\n",
      "              precision    recall  f1-score   support\n",
      "\n",
      "           0       0.96      0.79      0.87       576\n",
      "           1       0.20      0.62      0.30        48\n",
      "\n",
      "    accuracy                           0.77       624\n",
      "   macro avg       0.58      0.71      0.58       624\n",
      "weighted avg       0.90      0.77      0.82       624\n",
      "\n"
     ]
    }
   ],
   "source": [
    "from sklearn.neighbors import KNeighborsClassifier\n",
    "\n",
    "clf = KNeighborsClassifier(n_neighbors=8, weights='distance')\n",
    "clf.fit(X_resampled, y_resampled)\n",
    "\n",
    "y_pred = clf.predict(X_test)\n",
    "\n",
    "#saving\n",
    "knn_f1.append(f1_score(y_test, y_pred))\n",
    "knn_accuracy.append(accuracy_score(y_test, y_pred))\n",
    "\n",
    "print('Accuracy %s' % accuracy_score(y_test, y_pred))\n",
    "print('F1-score %s' % f1_score(y_test, y_pred, average=None))\n",
    "print(classification_report(y_test, y_pred))"
   ]
  },
  {
   "cell_type": "markdown",
   "id": "8d1f347c",
   "metadata": {},
   "source": [
    "# PLOT"
   ]
  },
  {
   "cell_type": "code",
   "execution_count": 216,
   "id": "2f0b69a9",
   "metadata": {},
   "outputs": [
    {
     "data": {
      "image/png": "[encoded data removed]",
      "text/plain": [
       "<Figure size 504x288 with 1 Axes>"
      ]
     },
     "metadata": {
      "needs_background": "light"
     },
     "output_type": "display_data"
    }
   ],
   "source": [
    "import matplotlib.pyplot as plt\n",
    "import numpy as np\n",
    "\n",
    "f1_measures = f1_results #non sorted -> random, smote, svmsmote, adasyn, smote_nc\n",
    "\n",
    "# Split the list into the first f1-measure and the rest of the f1-measures\n",
    "first_f1, rest_f1 = f1_measures[0], f1_measures[1:]\n",
    "\n",
    "# Define the number of bars and the width of each bar\n",
    "num_bars = len(rest_f1)\n",
    "bar_width = 0.4\n",
    "\n",
    "# Set the position of each pair of bars\n",
    "x_pos = np.arange(num_bars)\n",
    "\n",
    "# Plot the bars\n",
    "fig, ax = plt.subplots(figsize=(7, 4))\n",
    "ax.bar(x_pos + bar_width, [first_f1]*num_bars, bar_width, color='silver')\n",
    "ax.bar(x_pos, rest_f1, bar_width, color='cornflowerblue')\n",
    "ax.legend(['Unbalanced', 'Rebalanced'], fontsize=14)\n",
    "\n",
    "plt.title('F1-measures of Decision Tree', fontsize=14)\n",
    "\n",
    "# Add ticks and tick labels\n",
    "plt.xticks(x_pos + bar_width/2, range(2, len(f1_measures)+1))\n",
    "bar_names = ['random', 'smote', 'svm_smote', 'adasyn', 'smote_nc'] \n",
    "ax.set_xticklabels(bar_names, fontsize=14)\n",
    "plt.ylim([0, 0.6])\n",
    "\n",
    "# Iterate over the rest_f1 values and add the percentage increase to the end of each bar\n",
    "for i, f1 in enumerate(rest_f1):  \n",
    "    increase = (f1 - first_f1) / first_f1 * 100\n",
    "    ax.text(i - bar_width/2 - 0.05, f1 + 0.01, f'+{increase:.0f}%', fontsize=12)\n",
    "\n",
    "# Remove the y-axis\n",
    "ax.spines['left'].set_visible(False)\n",
    "ax.spines['right'].set_visible(False)\n",
    "plt.tick_params(left=False, labelleft=False)\n",
    "\n",
    "# Show the plot\n",
    "plt.show()\n"
   ]
  },
  {
   "cell_type": "code",
   "execution_count": 217,
   "id": "bc2fa776",
   "metadata": {},
   "outputs": [
    {
     "data": {
      "image/png": "[encoded data removed]",
      "text/plain": [
       "<Figure size 504x288 with 1 Axes>"
      ]
     },
     "metadata": {
      "needs_background": "light"
     },
     "output_type": "display_data"
    }
   ],
   "source": [
    "f1_measures = knn_f1 # List with 6 different f1-measures\n",
    "\n",
    "# Split the list into the first f1-measure and the rest of the f1-measures\n",
    "first_f1, rest_f1 = f1_measures[0], f1_measures[1:]\n",
    "\n",
    "# Define the number of bars and the width of each bar\n",
    "num_bars = len(rest_f1)\n",
    "bar_width = 0.4\n",
    "\n",
    "# Set the position of each pair of bars\n",
    "x_pos = np.arange(num_bars)\n",
    "\n",
    "# Plot the bars\n",
    "fig, ax1 = plt.subplots(figsize=(7, 4))\n",
    "ax1.bar(x_pos + bar_width, [first_f1]*num_bars, bar_width, color='silver')\n",
    "ax1.bar(x_pos, rest_f1, bar_width, color='indianred')\n",
    "ax1.legend(['Unbalanced', 'Rebalanced'], fontsize=14)\n",
    "\n",
    "plt.title('F1-measures of KNN', fontsize=14)\n",
    "\n",
    "# Add ticks and tick labels\n",
    "plt.xticks(x_pos + bar_width/2, range(2, len(f1_measures)+1))\n",
    "#plt.xticks(rotation=90)\n",
    "bar_names = ['random', 'smote', 'svm_smote', 'adasyn', 'smote_nc']\n",
    "ax1.set_xticklabels(bar_names, fontsize=14)\n",
    "plt.ylim([0, 0.6])\n",
    "\n",
    "# Iterate over the rest_f1 values and add the percentage increase to the end of each bar\n",
    "for i, f1 in enumerate(rest_f1):  \n",
    "    increase = (f1 - first_f1) / first_f1 * 100\n",
    "    ax1.text(i - bar_width/2 - 0.05, f1 + 0.01, f'+{increase:.0f}%', fontsize=12)\n",
    "\n",
    "# Remove the y-axis\n",
    "ax1.spines['left'].set_visible(False)\n",
    "ax1.spines['right'].set_visible(False)\n",
    "plt.tick_params(left=False, labelleft=False)\n",
    "\n",
    "# Show the plot\n",
    "plt.show()"
   ]
  },
  {
   "cell_type": "code",
   "execution_count": 267,
   "id": "74edaed9",
   "metadata": {},
   "outputs": [
    {
     "data": {
      "image/png": "[encoded data removed]",
      "text/plain": [
       "<Figure size 1152x432 with 4 Axes>"
      ]
     },
     "metadata": {
      "needs_background": "light"
     },
     "output_type": "display_data"
    }
   ],
   "source": [
    "# Split your data into features and target\n",
    "X = df.drop(columns=['emotion'])\n",
    "y = df['emotion']\n",
    "\n",
    "# Calculate the correlation between each feature and the target variable\n",
    "correlations = X.corrwith(y)\n",
    "\n",
    "# Sort the features by their correlation value\n",
    "sorted_features = correlations.abs().sort_values(ascending=False)\n",
    "\n",
    "# Select the top 50 most correlated features\n",
    "top_50_features = sorted_features[:10].index.tolist()\n",
    "\n",
    "# Keep only the top 50 most correlated features in your dataframe\n",
    "X_top_50 = X[top_50_features]\n",
    "\n",
    "# Calculate the correlation matrix for the top 50 features\n",
    "corr_top_50 = X_top_50.corr()\n",
    "\n",
    "# Create the oversampler\n",
    "sampler = SVMSMOTE(random_state=40)\n",
    "\n",
    "# Oversample the dataset\n",
    "X_resampled, y_resampled = sampler.fit_resample(X, y)\n",
    "\n",
    "# Create a new dataframe from the resampled data\n",
    "data_resampled = pd.concat([pd.DataFrame(X_resampled), pd.DataFrame(y_resampled)], axis=1)\n",
    "\n",
    "# Keep only the top 50 most correlated features in the resampled dataframe\n",
    "X_resampled_top_50 = data_resampled[top_50_features]\n",
    "\n",
    "# Calculate the correlation matrix for the top 50 features in the resampled dataframe\n",
    "corr_resampled_top_50 = X_resampled_top_50.corr()\n",
    "\n",
    "# Set up the subplots\n",
    "fig, axs = plt.subplots(ncols=2, figsize=(16, 6))\n",
    "\n",
    "# Create the first heatmap for the original dataset\n",
    "sns.heatmap(corr_top_50, cmap='YlGnBu', annot=True, ax=axs[0])\n",
    "axs[0].set_title('Original Dataset')\n",
    "\n",
    "# Create the second heatmap for the resampled dataset\n",
    "sns.heatmap(corr_resampled_top_50, cmap='YlGnBu', annot=True, ax=axs[1])\n",
    "axs[1].set_title('Resampled Dataset')\n",
    "\n",
    "\n",
    "plt.show()\n"
   ]
  }
 ],
 "metadata": {
  "kernelspec": {
   "display_name": "Python 3 (ipykernel)",
   "language": "python",
   "name": "python3"
  },
  "language_info": {
   "codemirror_mode": {
    "name": "ipython",
    "version": 3
   },
   "file_extension": ".py",
   "mimetype": "text/x-python",
   "name": "python",
   "nbconvert_exporter": "python",
   "pygments_lexer": "ipython3",
   "version": "3.9.16"
  }
 },
 "nbformat": 4,
 "nbformat_minor": 5
}
