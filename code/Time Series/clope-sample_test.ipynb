{
 "cells": [
  {
   "cell_type": "code",
   "execution_count": 32,
   "id": "07f3920d",
   "metadata": {},
   "outputs": [],
   "source": [
    "import pandas as pd\n",
    "import numpy as np\n",
    "from collections import Counter\n",
    "from collections import defaultdict\n",
    "\n",
    "# df -> transactional dataset\n",
    "# k -> number of clusters\n",
    "# r -> repulsion coefficient\n",
    "# real_label -> nome of the column in df that contains the class target (necessary to obtain the purity measure)\n",
    "def CLOPE(df, k, r, real_label=\"missing!\"):\n",
    "    \n",
    "    #whatever is passed the column of the class\n",
    "    if real_label!=\"missing!\":\n",
    "        df_tmp = df.drop([real_label], axis=1, inplace=False)\n",
    "    else: df_tmp = df\n",
    "    \n",
    "    #initialize the table (index in df | cluster label)\n",
    "    table = pd.DataFrame(columns=['items', 'index', 'cluster_label', 'real_label'], index=range(df_tmp.shape[0]))\n",
    "    table['index'] = np.arange(df_tmp.shape[0])\n",
    "    table['cluster_label'] = -1\n",
    "    table['items'] = df_tmp.apply(lambda row: row.tolist(), axis=1)\n",
    "    if real_label!=\"missing!\": table['real_label'] = df[real_label]\n",
    "    \n",
    "    #initialize the empty clusters\n",
    "    # S -> number of items\n",
    "    # W -> width\n",
    "    # N -> number of transactions\n",
    "    # Items -> list of items (eventually repeated)\n",
    "    Clusters = pd.DataFrame(columns=['S', 'W', 'N', 'Items'], index=range(k))\n",
    "    for index, c in Clusters.iterrows():\n",
    "        c['S'] = 0\n",
    "        c['W'] = 0\n",
    "        c['N'] = 0\n",
    "        c['Items'] = []\n",
    "        \n",
    "    \n",
    "    #FIRST STEP\n",
    "    for index, ts in table.iterrows():\n",
    "        new_label = maximize(Clusters, ts, r)\n",
    "        table.loc[index, 'cluster_label'] = new_label\n",
    "        \n",
    "        \n",
    "    #SECOND STEP\n",
    "    moved=False \n",
    "    while(not moved):\n",
    "        moved=False\n",
    "        for index, ts in table.iterrows():\n",
    "            old_label = ts['cluster_label']\n",
    "            new_label = maximize(Clusters, ts, r)\n",
    "            if new_label!=old_label:\n",
    "                table.loc[index, 'cluster_label'] = new_label\n",
    "                moved = True\n",
    "                \n",
    "    #calculating metric for clustering evaluation\n",
    "    if real_label != \"missing!\":\n",
    "        purity = Purity(real=table['real_label'].tolist(), pred=table['cluster_label'].tolist())\n",
    "        print(\"purity: \", purity)    \n",
    "    \n",
    "    return table, Clusters"
   ]
  },
  {
   "cell_type": "code",
   "execution_count": 4,
   "id": "36876398",
   "metadata": {},
   "outputs": [],
   "source": [
    "def maximize(Clusters, ts, r):\n",
    "    \n",
    "    label = ts['cluster_label']\n",
    "    new_label = label #at starting point the new_label is the previous label\n",
    "    indices_empty = Clusters.loc[Clusters['N'] == 0].index #list of empty cluster\n",
    "    \n",
    "    #CASE 0: There's at least one cluster with 0 elements\n",
    "    if len(indices_empty)!=0:\n",
    "        update_cluster(Clusters.loc[indices_empty[0]], ts)\n",
    "        new_label = indices_empty[0]\n",
    "\n",
    "#CASE 1: all the clusters have at least 1 element\n",
    "    #remove ts from its Cluster (if ts belong to a cluster)\n",
    "    else:\n",
    "        #to avoid to remove the element from a cluster with a single element\n",
    "        if label!=-1:\n",
    "            if Clusters.loc[label]['N']==1:\n",
    "                return label\n",
    "        \n",
    "        #REMOVE\n",
    "        #if the element belong to a cluster...\n",
    "        if label!=-1:\n",
    "            #...remove the transaction from the cluster\n",
    "            Clusters.loc[label]['S']-=len(ts['items'])\n",
    "            Clusters.loc[label]['N']-=1\n",
    "            Clusters.loc[label]['Items'] = remove_occ(Clusters.loc[label]['Items'], ts['items'])\n",
    "            Clusters.loc[label]['W'] = len(set(Clusters.loc[label]['Items']))\n",
    "\n",
    "        #UPDATE\n",
    "        #update the cluster with the new transaction\n",
    "        profits = Clusters.apply(lambda row: DeltaAdd(row, ts, r), axis=1).tolist()\n",
    "        maxprofit = max(profits)\n",
    "        new_label = profits.index(maxprofit)\n",
    "        #update the corresponding cluster and ts.label\n",
    "        update_cluster(Clusters.loc[new_label], ts)\n",
    "        \n",
    "    return new_label"
   ]
  },
  {
   "cell_type": "code",
   "execution_count": 5,
   "id": "36728242",
   "metadata": {},
   "outputs": [],
   "source": [
    "#calculate the increment Profit considering a specific cluster C\n",
    "def DeltaAdd(C, ts, r):\n",
    "\n",
    "    S_new = C['S'] + len(ts['items'])\n",
    "    W_new = C['W']\n",
    "\n",
    "    for i in set(ts['items']):\n",
    "        if not i in C['Items']:\n",
    "            W_new+=1\n",
    "            \n",
    "    result = ( S_new*( (C['N']+1)/(W_new**r) ) ) - ( C['S']*( C['N']/(C['W']**r) ) )\n",
    "    \n",
    "    return result"
   ]
  },
  {
   "cell_type": "code",
   "execution_count": 6,
   "id": "2f4741c4",
   "metadata": {},
   "outputs": [],
   "source": [
    "def remove_occ(main_list, remove_list):\n",
    "    \n",
    "    main_counter = Counter(main_list)\n",
    "    remove_counter = Counter(remove_list)\n",
    "\n",
    "    result_counter = main_counter - remove_counter\n",
    "        \n",
    "    return list(result_counter.elements())"
   ]
  },
  {
   "cell_type": "code",
   "execution_count": 7,
   "id": "42562c19",
   "metadata": {},
   "outputs": [],
   "source": [
    "def update_cluster(C, ts):\n",
    "    C['N']+=1\n",
    "    C['S']+=len(ts['items'])\n",
    "    C['Items']+=ts['items']\n",
    "    C['W']=len(set(C['Items']))"
   ]
  },
  {
   "cell_type": "code",
   "execution_count": 8,
   "id": "d329c3b9",
   "metadata": {},
   "outputs": [],
   "source": [
    "def Purity(real, pred):\n",
    "    \n",
    "    mapping = {value: index for index, value in enumerate(set(real))}\n",
    "    # Map the list of strings to numbers\n",
    "    real_map = [mapping[item] for item in real]\n",
    "    \n",
    "    \n",
    "    purity_val = 0\n",
    "    cluster_count = defaultdict(lambda: [0] * len(set(real_map)))\n",
    "\n",
    "    for p, r in zip(pred, real_map):\n",
    "        cluster_count[p][r] += 1\n",
    "\n",
    "    for label in cluster_count:\n",
    "        purity_val += np.max(cluster_count[label])\n",
    "\n",
    "    return 1.0 * purity_val / len(real)"
   ]
  },
  {
   "cell_type": "markdown",
   "id": "820eae4a",
   "metadata": {},
   "source": [
    "### Testing on mushrooms dataset"
   ]
  },
  {
   "cell_type": "code",
   "execution_count": 12,
   "id": "45c8cfbb",
   "metadata": {},
   "outputs": [
    {
     "data": {
      "text/plain": [
       "(8124, 23)"
      ]
     },
     "execution_count": 12,
     "metadata": {},
     "output_type": "execute_result"
    }
   ],
   "source": [
    "df=pd.read_csv('mushrooms.csv')\n",
    "df.shape"
   ]
  },
  {
   "cell_type": "code",
   "execution_count": 16,
   "id": "6e0338ff",
   "metadata": {},
   "outputs": [
    {
     "name": "stdout",
     "output_type": "stream",
     "text": [
      "purity:  0.8612\n"
     ]
    }
   ],
   "source": [
    "#takes the dataset, the number of clusters, the repulsion coefficient (greather than 1), and the column name of the class\n",
    "labels, clusters = CLOPE(df[:5000], k=2, r=1, real_label=\"class\") #it returns atomatically the purity measure"
   ]
  },
  {
   "cell_type": "code",
   "execution_count": 25,
   "id": "ff315d81",
   "metadata": {},
   "outputs": [
    {
     "name": "stdout",
     "output_type": "stream",
     "text": [
      "size of each cluster\n",
      "0    3659\n",
      "1    1341\n",
      "Name: N, dtype: object\n"
     ]
    }
   ],
   "source": [
    "print(\"size of each cluster\")\n",
    "print(clusters['N'])"
   ]
  },
  {
   "cell_type": "code",
   "execution_count": 31,
   "id": "3d32df9c",
   "metadata": {},
   "outputs": [
    {
     "name": "stdout",
     "output_type": "stream",
     "text": [
      "cluster label:\n",
      "0    3659\n",
      "1    1341\n",
      "Name: cluster_label, dtype: int64\n",
      "\n",
      "real label:\n",
      "e    3443\n",
      "p    1557\n",
      "Name: real_label, dtype: int64\n"
     ]
    }
   ],
   "source": [
    "print(\"cluster label:\")\n",
    "print(labels['cluster_label'].value_counts())\n",
    "print(\"\\nreal label:\")\n",
    "print(labels['real_label'].value_counts())"
   ]
  }
 ],
 "metadata": {
  "kernelspec": {
   "display_name": "Python 3 (ipykernel)",
   "language": "python",
   "name": "python3"
  },
  "language_info": {
   "codemirror_mode": {
    "name": "ipython",
    "version": 3
   },
   "file_extension": ".py",
   "mimetype": "text/x-python",
   "name": "python",
   "nbconvert_exporter": "python",
   "pygments_lexer": "ipython3",
   "version": "3.9.16"
  }
 },
 "nbformat": 4,
 "nbformat_minor": 5
}
